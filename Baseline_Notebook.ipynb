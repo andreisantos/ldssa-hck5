{
 "cells": [
  {
   "cell_type": "markdown",
   "metadata": {},
   "source": [
    "# Hackathon 5"
   ]
  },
  {
   "cell_type": "code",
   "execution_count": 7,
   "metadata": {},
   "outputs": [
    {
     "name": "stdout",
     "output_type": "stream",
     "text": [
      "Collecting ml-metrics==0.1.4\n",
      "Requirement already satisfied: numpy in /home/andre/anaconda3/lib/python3.7/site-packages (from ml-metrics==0.1.4) (1.16.2)\n",
      "Requirement already satisfied: pandas in /home/andre/anaconda3/lib/python3.7/site-packages (from ml-metrics==0.1.4) (0.24.2)\n",
      "Requirement already satisfied: pytz>=2011k in /home/andre/anaconda3/lib/python3.7/site-packages (from pandas->ml-metrics==0.1.4) (2018.9)\n",
      "Requirement already satisfied: python-dateutil>=2.5.0 in /home/andre/anaconda3/lib/python3.7/site-packages (from pandas->ml-metrics==0.1.4) (2.8.0)\n",
      "Requirement already satisfied: six>=1.5 in /home/andre/anaconda3/lib/python3.7/site-packages (from python-dateutil>=2.5.0->pandas->ml-metrics==0.1.4) (1.12.0)\n",
      "Installing collected packages: ml-metrics\n",
      "Successfully installed ml-metrics-0.1.4\n"
     ]
    }
   ],
   "source": [
    "!pip install ml-metrics==0.1.4"
   ]
  },
  {
   "cell_type": "code",
   "execution_count": 8,
   "metadata": {},
   "outputs": [],
   "source": [
    "# Import the necessary dependencies\n",
    "\n",
    "# Operating System\n",
    "import os\n",
    "\n",
    "# Numpy, Pandas and Scipy\n",
    "import numpy as np\n",
    "import pandas as pd\n",
    "from scipy.sparse import csr_matrix, coo_matrix, save_npz, load_npz\n",
    "\n",
    "# Scikit-learn\n",
    "from sklearn.metrics.pairwise import cosine_similarity\n",
    "from sklearn.model_selection import train_test_split\n",
    "\n",
    "# Model Evaluationa\n",
    "from evaluation import evaluate"
   ]
  },
  {
   "cell_type": "markdown",
   "metadata": {},
   "source": [
    "## Understanding the data\n",
    "\n",
    "Our **training data** is:\n",
    "\n",
    "* `train_reviews.csv` reviews that users wrote about sports products. This dataset has the reviews both in text format and as numerical rating (in the overall column). This can be ordered in time\n",
    "\n",
    "* `train_products_metadata.csv` this file has some metadata about the products that were reviewed. In particular, you’ll find data about the product brand, categories and price\n",
    "\n",
    "For **test data** only, we have the following list of users to generate a recommendation for:\n",
    "\n",
    "* `test_users.csv` this file has the list of users for which you’ll have to provide recommendations for"
   ]
  },
  {
   "cell_type": "code",
   "execution_count": 13,
   "metadata": {},
   "outputs": [
    {
     "name": "stdout",
     "output_type": "stream",
     "text": [
      "   Unnamed: 0  product_id                                        review_text  \\\n",
      "0           0  1881509818  This came in on time and I am veru happy with ...   \n",
      "1           1  1881509818  I had a factory Glock tool that I was using fo...   \n",
      "\n",
      "  review_date         user_id                            summary  overall  \n",
      "0  2014-01-26    AIXZKN4ACSKI                     Woks very good        5  \n",
      "1  2012-02-02  A1L5P841VIO02V  Works as well as the factory tool        5  \n",
      "#############################\n",
      "      Unnamed: 0  product_id  \\\n",
      "195          229  B00004S9I0   \n",
      "5362        5821  B0000D80FM   \n",
      "\n",
      "                                            review_text review_date  \\\n",
      "195   I have a cheap gas stove and I always wanted o...  2002-03-07   \n",
      "5362  The manufacturer says to use their ink in thei...  2002-09-03   \n",
      "\n",
      "             user_id                                            summary  \\\n",
      "195   A1M2T0J45TTE64        Great stove top giddle/Or use for broiling!   \n",
      "5362  A11I1I9QLMAM1A  Quality and reliability of the real thing at a...   \n",
      "\n",
      "      overall  \n",
      "195         5  \n",
      "5362        4  \n"
     ]
    },
    {
     "data": {
      "text/html": [
       "<div>\n",
       "<style scoped>\n",
       "    .dataframe tbody tr th:only-of-type {\n",
       "        vertical-align: middle;\n",
       "    }\n",
       "\n",
       "    .dataframe tbody tr th {\n",
       "        vertical-align: top;\n",
       "    }\n",
       "\n",
       "    .dataframe thead th {\n",
       "        text-align: right;\n",
       "    }\n",
       "</style>\n",
       "<table border=\"1\" class=\"dataframe\">\n",
       "  <thead>\n",
       "    <tr style=\"text-align: right;\">\n",
       "      <th></th>\n",
       "      <th>product_id</th>\n",
       "      <th>user_id</th>\n",
       "      <th>overall</th>\n",
       "    </tr>\n",
       "  </thead>\n",
       "  <tbody>\n",
       "    <tr>\n",
       "      <th>195</th>\n",
       "      <td>B00004S9I0</td>\n",
       "      <td>A1M2T0J45TTE64</td>\n",
       "      <td>5</td>\n",
       "    </tr>\n",
       "    <tr>\n",
       "      <th>5362</th>\n",
       "      <td>B0000D80FM</td>\n",
       "      <td>A11I1I9QLMAM1A</td>\n",
       "      <td>4</td>\n",
       "    </tr>\n",
       "    <tr>\n",
       "      <th>146</th>\n",
       "      <td>B00000IURU</td>\n",
       "      <td>AGFW667QNHDOY</td>\n",
       "      <td>5</td>\n",
       "    </tr>\n",
       "    <tr>\n",
       "      <th>193</th>\n",
       "      <td>B00004S9I0</td>\n",
       "      <td>A1MR1VMK999I6O</td>\n",
       "      <td>5</td>\n",
       "    </tr>\n",
       "    <tr>\n",
       "      <th>1024</th>\n",
       "      <td>B00005JD40</td>\n",
       "      <td>A96JD9312DHWC</td>\n",
       "      <td>5</td>\n",
       "    </tr>\n",
       "  </tbody>\n",
       "</table>\n",
       "</div>"
      ],
      "text/plain": [
       "      product_id         user_id  overall\n",
       "195   B00004S9I0  A1M2T0J45TTE64        5\n",
       "5362  B0000D80FM  A11I1I9QLMAM1A        4\n",
       "146   B00000IURU   AGFW667QNHDOY        5\n",
       "193   B00004S9I0  A1MR1VMK999I6O        5\n",
       "1024  B00005JD40   A96JD9312DHWC        5"
      ]
     },
     "execution_count": 13,
     "metadata": {},
     "output_type": "execute_result"
    }
   ],
   "source": [
    "def read_users_history(features=None) -> pd.DataFrame:\n",
    "    \"\"\"Imports the listening history for each user.\n",
    "    Returns:\n",
    "        data (pd.DataFrame): DataFrame with the user for each user.\n",
    "                             The rows are tuples of (user, song_id, rating).\n",
    "    \"\"\"\n",
    "    path = os.path.join('data', 'train_reviews.csv')\n",
    "    data = pd.read_csv(path, sep=',')\n",
    "    data.sort_values(by='review_date', ascending = True, inplace = True)\n",
    "    if features != None:\n",
    "        return data[features]\n",
    "    else:\n",
    "        return data\n",
    "data = read_users_history(['product_id', 'user_id', 'overall'])\n",
    "data.head()"
   ]
  },
  {
   "cell_type": "code",
   "execution_count": 10,
   "metadata": {},
   "outputs": [
    {
     "data": {
      "text/html": [
       "<div>\n",
       "<style scoped>\n",
       "    .dataframe tbody tr th:only-of-type {\n",
       "        vertical-align: middle;\n",
       "    }\n",
       "\n",
       "    .dataframe tbody tr th {\n",
       "        vertical-align: top;\n",
       "    }\n",
       "\n",
       "    .dataframe thead th {\n",
       "        text-align: right;\n",
       "    }\n",
       "</style>\n",
       "<table border=\"1\" class=\"dataframe\">\n",
       "  <thead>\n",
       "    <tr style=\"text-align: right;\">\n",
       "      <th></th>\n",
       "      <th>user_id</th>\n",
       "    </tr>\n",
       "  </thead>\n",
       "  <tbody>\n",
       "    <tr>\n",
       "      <th>0</th>\n",
       "      <td>A0029274J35Q1MYNKUWO</td>\n",
       "    </tr>\n",
       "    <tr>\n",
       "      <th>1</th>\n",
       "      <td>A0103849GBVWICKXD4T6</td>\n",
       "    </tr>\n",
       "    <tr>\n",
       "      <th>2</th>\n",
       "      <td>A01685981QK9IX1Q16YZY</td>\n",
       "    </tr>\n",
       "    <tr>\n",
       "      <th>3</th>\n",
       "      <td>A02904661A62AP64S46MT</td>\n",
       "    </tr>\n",
       "    <tr>\n",
       "      <th>4</th>\n",
       "      <td>A036147939NFPC389VLK</td>\n",
       "    </tr>\n",
       "  </tbody>\n",
       "</table>\n",
       "</div>"
      ],
      "text/plain": [
       "                 user_id\n",
       "0   A0029274J35Q1MYNKUWO\n",
       "1   A0103849GBVWICKXD4T6\n",
       "2  A01685981QK9IX1Q16YZY\n",
       "3  A02904661A62AP64S46MT\n",
       "4   A036147939NFPC389VLK"
      ]
     },
     "execution_count": 10,
     "metadata": {},
     "output_type": "execute_result"
    }
   ],
   "source": [
    "def read_test_users() -> pd.DataFrame:\n",
    "    \"\"\"Imports the list of users for which we need to predict.\n",
    "    Returns:\n",
    "        users_to_pred (pd.DataFrame): DataFrame with the users for which we will recommend songs.\n",
    "    \"\"\"\n",
    "    path = os.path.join('data', 'test_users.csv')\n",
    "    users_to_pred_ = pd.read_csv(path)\n",
    "    return users_to_pred_\n",
    "users_to_pred = read_test_users()\n",
    "users_to_pred.head()"
   ]
  },
  {
   "cell_type": "code",
   "execution_count": 15,
   "metadata": {},
   "outputs": [],
   "source": [
    "def get_indices_from_users_to_pred(users_to_pred: pd.DataFrame, data: pd.DataFrame):\n",
    "    \"\"\"Get the indices of users_to_pred for which we have data and for which we don't.\n",
    "    Args:\n",
    "        users_to_pred (pd.DataFrame): DataFrame containing the list of users we are going to recommend items.\n",
    "        data (pd.DataFrame): Original of listening history for the users.\n",
    "    Returns:\n",
    "        index_users_in_data (Int64Index): Index that filters the users_to_pred to get the user_id's with training data.\n",
    "        index_users_not_in_data (Int64Index): Index that filters the users_to_pred to get the user_id's without training data.\n",
    "    \"\"\"\n",
    "    index_users_in_data = users_to_pred[users_to_pred.isin(data.user_id.values).values].index\n",
    "    index_users_not_in_data = users_to_pred[~users_to_pred.isin(data.user_id.values).values].index\n",
    "    return index_users_in_data, index_users_not_in_data\n",
    "index_users_in_data, index_users_not_in_data = get_indices_from_users_to_pred(users_to_pred, data)"
   ]
  },
  {
   "cell_type": "code",
   "execution_count": 16,
   "metadata": {},
   "outputs": [
    {
     "name": "stdout",
     "output_type": "stream",
     "text": [
      "The index for users which we have training data has length of 8343.\n",
      "The index for users which we don't have training data has length of 882.\n"
     ]
    }
   ],
   "source": [
    "# For further inspection, we advise you to look at the objects themselves.\n",
    "print(f\"The index for users which we have training data has length of {len(index_users_in_data)}.\")\n",
    "print(f\"The index for users which we don't have training data has length of {len(index_users_not_in_data)}.\")"
   ]
  },
  {
   "cell_type": "code",
   "execution_count": null,
   "metadata": {},
   "outputs": [],
   "source": []
  }
 ],
 "metadata": {
  "kernelspec": {
   "display_name": "Python 3",
   "language": "python",
   "name": "python3"
  },
  "language_info": {
   "codemirror_mode": {
    "name": "ipython",
    "version": 3
   },
   "file_extension": ".py",
   "mimetype": "text/x-python",
   "name": "python",
   "nbconvert_exporter": "python",
   "pygments_lexer": "ipython3",
   "version": "3.7.3"
  }
 },
 "nbformat": 4,
 "nbformat_minor": 2
}
