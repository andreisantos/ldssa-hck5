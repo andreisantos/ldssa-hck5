{
 "cells": [
  {
   "cell_type": "code",
   "execution_count": 1,
   "metadata": {},
   "outputs": [],
   "source": [
    "# Import the necessary dependencies\n",
    "\n",
    "# Operating System\n",
    "import os\n",
    "\n",
    "# Numpy, Pandas and Scipy\n",
    "import numpy as np\n",
    "import pandas as pd\n",
    "from scipy.sparse import csr_matrix, coo_matrix, save_npz, load_npz\n",
    "\n",
    "# Scikit-learn\n",
    "from sklearn.metrics.pairwise import cosine_similarity\n",
    "from sklearn.model_selection import train_test_split"
   ]
  },
  {
   "cell_type": "code",
   "execution_count": 2,
   "metadata": {},
   "outputs": [
    {
     "data": {
      "text/html": [
       "<div>\n",
       "<style scoped>\n",
       "    .dataframe tbody tr th:only-of-type {\n",
       "        vertical-align: middle;\n",
       "    }\n",
       "\n",
       "    .dataframe tbody tr th {\n",
       "        vertical-align: top;\n",
       "    }\n",
       "\n",
       "    .dataframe thead th {\n",
       "        text-align: right;\n",
       "    }\n",
       "</style>\n",
       "<table border=\"1\" class=\"dataframe\">\n",
       "  <thead>\n",
       "    <tr style=\"text-align: right;\">\n",
       "      <th></th>\n",
       "      <th>user_id</th>\n",
       "      <th>product_id</th>\n",
       "      <th>overall</th>\n",
       "    </tr>\n",
       "  </thead>\n",
       "  <tbody>\n",
       "    <tr>\n",
       "      <th>195</th>\n",
       "      <td>A1M2T0J45TTE64</td>\n",
       "      <td>B00004S9I0</td>\n",
       "      <td>5</td>\n",
       "    </tr>\n",
       "    <tr>\n",
       "      <th>5362</th>\n",
       "      <td>A11I1I9QLMAM1A</td>\n",
       "      <td>B0000D80FM</td>\n",
       "      <td>4</td>\n",
       "    </tr>\n",
       "    <tr>\n",
       "      <th>146</th>\n",
       "      <td>AGFW667QNHDOY</td>\n",
       "      <td>B00000IURU</td>\n",
       "      <td>5</td>\n",
       "    </tr>\n",
       "    <tr>\n",
       "      <th>193</th>\n",
       "      <td>A1MR1VMK999I6O</td>\n",
       "      <td>B00004S9I0</td>\n",
       "      <td>5</td>\n",
       "    </tr>\n",
       "    <tr>\n",
       "      <th>1024</th>\n",
       "      <td>A96JD9312DHWC</td>\n",
       "      <td>B00005JD40</td>\n",
       "      <td>5</td>\n",
       "    </tr>\n",
       "  </tbody>\n",
       "</table>\n",
       "</div>"
      ],
      "text/plain": [
       "             user_id  product_id  overall\n",
       "195   A1M2T0J45TTE64  B00004S9I0        5\n",
       "5362  A11I1I9QLMAM1A  B0000D80FM        4\n",
       "146    AGFW667QNHDOY  B00000IURU        5\n",
       "193   A1MR1VMK999I6O  B00004S9I0        5\n",
       "1024   A96JD9312DHWC  B00005JD40        5"
      ]
     },
     "execution_count": 2,
     "metadata": {},
     "output_type": "execute_result"
    }
   ],
   "source": [
    "def read_users_history(features=None) -> pd.DataFrame:\n",
    "    \"\"\"Imports the listening history for each user.\n",
    "    \n",
    "    Returns:\n",
    "        data (pd.DataFrame): DataFrame with the user for each user. \n",
    "                             The rows are tuples of (user, song_id, rating).\n",
    "                             \n",
    "    \"\"\"\n",
    "    path = os.path.join('data', 'train_reviews.csv')\n",
    "    data = pd.read_csv(path, sep=',').sort_values(by=[\"review_date\"])\n",
    "    if features != None:\n",
    "        return data[features]\n",
    "    else:\n",
    "        return data\n",
    "\n",
    "data = read_users_history(['user_id', 'product_id', 'overall'])\n",
    "data.head()"
   ]
  },
  {
   "cell_type": "code",
   "execution_count": 3,
   "metadata": {},
   "outputs": [
    {
     "data": {
      "text/plain": [
       "(268169, 3)"
      ]
     },
     "execution_count": 3,
     "metadata": {},
     "output_type": "execute_result"
    }
   ],
   "source": [
    "data.shape"
   ]
  },
  {
   "cell_type": "code",
   "execution_count": 4,
   "metadata": {},
   "outputs": [
    {
     "data": {
      "text/html": [
       "<div>\n",
       "<style scoped>\n",
       "    .dataframe tbody tr th:only-of-type {\n",
       "        vertical-align: middle;\n",
       "    }\n",
       "\n",
       "    .dataframe tbody tr th {\n",
       "        vertical-align: top;\n",
       "    }\n",
       "\n",
       "    .dataframe thead th {\n",
       "        text-align: right;\n",
       "    }\n",
       "</style>\n",
       "<table border=\"1\" class=\"dataframe\">\n",
       "  <thead>\n",
       "    <tr style=\"text-align: right;\">\n",
       "      <th></th>\n",
       "      <th>user_id</th>\n",
       "    </tr>\n",
       "  </thead>\n",
       "  <tbody>\n",
       "    <tr>\n",
       "      <th>0</th>\n",
       "      <td>A0029274J35Q1MYNKUWO</td>\n",
       "    </tr>\n",
       "    <tr>\n",
       "      <th>1</th>\n",
       "      <td>A0103849GBVWICKXD4T6</td>\n",
       "    </tr>\n",
       "    <tr>\n",
       "      <th>2</th>\n",
       "      <td>A01685981QK9IX1Q16YZY</td>\n",
       "    </tr>\n",
       "    <tr>\n",
       "      <th>3</th>\n",
       "      <td>A02904661A62AP64S46MT</td>\n",
       "    </tr>\n",
       "    <tr>\n",
       "      <th>4</th>\n",
       "      <td>A036147939NFPC389VLK</td>\n",
       "    </tr>\n",
       "  </tbody>\n",
       "</table>\n",
       "</div>"
      ],
      "text/plain": [
       "                 user_id\n",
       "0   A0029274J35Q1MYNKUWO\n",
       "1   A0103849GBVWICKXD4T6\n",
       "2  A01685981QK9IX1Q16YZY\n",
       "3  A02904661A62AP64S46MT\n",
       "4   A036147939NFPC389VLK"
      ]
     },
     "execution_count": 4,
     "metadata": {},
     "output_type": "execute_result"
    }
   ],
   "source": [
    "def read_test_users() -> pd.DataFrame:\n",
    "    \"\"\"Imports the list of users for which we need to predict.\n",
    "    \n",
    "    Returns:\n",
    "        users_to_pred (pd.DataFrame): DataFrame with the users for which we will recommend songs. \n",
    "    \"\"\"\n",
    "\n",
    "    path = os.path.join('data', 'test_users.csv')\n",
    "    users_to_pred_ = pd.read_csv(path)\n",
    "    \n",
    "    return users_to_pred_\n",
    "\n",
    "\n",
    "users_to_pred = read_test_users()\n",
    "users_to_pred.head()"
   ]
  },
  {
   "cell_type": "code",
   "execution_count": 5,
   "metadata": {},
   "outputs": [
    {
     "name": "stdout",
     "output_type": "stream",
     "text": [
      "We have 9225 users in need for better products!\n"
     ]
    }
   ],
   "source": [
    "print(f\"We have {len(users_to_pred)} users in need for better products!\")"
   ]
  },
  {
   "cell_type": "code",
   "execution_count": 6,
   "metadata": {},
   "outputs": [],
   "source": [
    "def get_indices_from_users_to_pred(users_to_pred: pd.DataFrame, data: pd.DataFrame):\n",
    "    \"\"\"Get the indices of users_to_pred for which we have data and for which we don't.\n",
    "    \n",
    "    Args:\n",
    "        users_to_pred (pd.DataFrame): DataFrame containing the list of users we are going to recommend items.\n",
    "        data (pd.DataFrame): Original of listening history for the users.\n",
    "        \n",
    "    Returns:\n",
    "        index_users_in_data (Int64Index): Index that filters the users_to_pred to get the user_id's with training data.\n",
    "        index_users_not_in_data (Int64Index): Index that filters the users_to_pred to get the user_id's without training data.\n",
    "        \n",
    "    \"\"\"\n",
    "    index_users_in_data = users_to_pred[users_to_pred.isin(data.user_id.values).values].index\n",
    "    index_users_not_in_data = users_to_pred[~users_to_pred.isin(data.user_id.values).values].index\n",
    "    \n",
    "    return index_users_in_data, index_users_not_in_data\n",
    "\n",
    "index_users_in_data, index_users_not_in_data = get_indices_from_users_to_pred(users_to_pred, data)"
   ]
  },
  {
   "cell_type": "code",
   "execution_count": 7,
   "metadata": {},
   "outputs": [
    {
     "name": "stdout",
     "output_type": "stream",
     "text": [
      "The index for users which we have training data has length of 8343.\n",
      "The index for users which we don't have training data has length of 882.\n"
     ]
    }
   ],
   "source": [
    "# For further inspection, we advise you to look at the objects themselves.\n",
    "print(f\"The index for users which we have training data has length of {len(index_users_in_data)}.\")\n",
    "print(f\"The index for users which we don't have training data has length of {len(index_users_not_in_data)}.\")"
   ]
  },
  {
   "cell_type": "code",
   "execution_count": 8,
   "metadata": {},
   "outputs": [
    {
     "data": {
      "text/html": [
       "<div>\n",
       "<style scoped>\n",
       "    .dataframe tbody tr th:only-of-type {\n",
       "        vertical-align: middle;\n",
       "    }\n",
       "\n",
       "    .dataframe tbody tr th {\n",
       "        vertical-align: top;\n",
       "    }\n",
       "\n",
       "    .dataframe thead th {\n",
       "        text-align: right;\n",
       "    }\n",
       "</style>\n",
       "<table border=\"1\" class=\"dataframe\">\n",
       "  <thead>\n",
       "    <tr style=\"text-align: right;\">\n",
       "      <th></th>\n",
       "      <th>user_id</th>\n",
       "    </tr>\n",
       "  </thead>\n",
       "  <tbody>\n",
       "    <tr>\n",
       "      <th>0</th>\n",
       "      <td>A0029274J35Q1MYNKUWO</td>\n",
       "    </tr>\n",
       "    <tr>\n",
       "      <th>1</th>\n",
       "      <td>A0103849GBVWICKXD4T6</td>\n",
       "    </tr>\n",
       "    <tr>\n",
       "      <th>2</th>\n",
       "      <td>A01685981QK9IX1Q16YZY</td>\n",
       "    </tr>\n",
       "    <tr>\n",
       "      <th>3</th>\n",
       "      <td>A02904661A62AP64S46MT</td>\n",
       "    </tr>\n",
       "    <tr>\n",
       "      <th>4</th>\n",
       "      <td>A036147939NFPC389VLK</td>\n",
       "    </tr>\n",
       "  </tbody>\n",
       "</table>\n",
       "</div>"
      ],
      "text/plain": [
       "                 user_id\n",
       "0   A0029274J35Q1MYNKUWO\n",
       "1   A0103849GBVWICKXD4T6\n",
       "2  A01685981QK9IX1Q16YZY\n",
       "3  A02904661A62AP64S46MT\n",
       "4   A036147939NFPC389VLK"
      ]
     },
     "execution_count": 8,
     "metadata": {},
     "output_type": "execute_result"
    }
   ],
   "source": [
    "def get_users_to_pred_by_index(users_to_pred, index_users_in_data):\n",
    "    \"\"\"DataFrame with user_id's in test set for for which we have training data.\n",
    "\n",
    "    Args: \n",
    "        users_to_pred (pd.DataFrame): DataFrame containing the list of users we are going to recommend items.\n",
    "        index_users_in_data (Int64Index): Index that filters the users_to_pred to get the user_id's with training data.\n",
    "    Returns:\n",
    "        users_in_data (pd.DataFrame): Dataframe containing the list of user_id's with training data.\n",
    "    \n",
    "    \"\"\"\n",
    "    return users_to_pred.iloc[index_users_in_data].reset_index(drop=True)\n",
    "\n",
    "# Get the test users with training data\n",
    "test_users_in_data = get_users_to_pred_by_index(users_to_pred, index_users_in_data)\n",
    "test_users_in_data.head()"
   ]
  },
  {
   "cell_type": "code",
   "execution_count": 9,
   "metadata": {},
   "outputs": [
    {
     "name": "stdout",
     "output_type": "stream",
     "text": [
      "(882, 1)\n"
     ]
    },
    {
     "data": {
      "text/html": [
       "<div>\n",
       "<style scoped>\n",
       "    .dataframe tbody tr th:only-of-type {\n",
       "        vertical-align: middle;\n",
       "    }\n",
       "\n",
       "    .dataframe tbody tr th {\n",
       "        vertical-align: top;\n",
       "    }\n",
       "\n",
       "    .dataframe thead th {\n",
       "        text-align: right;\n",
       "    }\n",
       "</style>\n",
       "<table border=\"1\" class=\"dataframe\">\n",
       "  <thead>\n",
       "    <tr style=\"text-align: right;\">\n",
       "      <th></th>\n",
       "      <th>user_id</th>\n",
       "    </tr>\n",
       "  </thead>\n",
       "  <tbody>\n",
       "    <tr>\n",
       "      <th>0</th>\n",
       "      <td>A04904273OLXHXFW1AQK2</td>\n",
       "    </tr>\n",
       "    <tr>\n",
       "      <th>1</th>\n",
       "      <td>A100US3LDAJU51</td>\n",
       "    </tr>\n",
       "    <tr>\n",
       "      <th>2</th>\n",
       "      <td>A10885J2DS1NQ6</td>\n",
       "    </tr>\n",
       "    <tr>\n",
       "      <th>3</th>\n",
       "      <td>A108M7R9UBH5LT</td>\n",
       "    </tr>\n",
       "    <tr>\n",
       "      <th>4</th>\n",
       "      <td>A10W7NGRNY5GTR</td>\n",
       "    </tr>\n",
       "  </tbody>\n",
       "</table>\n",
       "</div>"
      ],
      "text/plain": [
       "                 user_id\n",
       "0  A04904273OLXHXFW1AQK2\n",
       "1         A100US3LDAJU51\n",
       "2         A10885J2DS1NQ6\n",
       "3         A108M7R9UBH5LT\n",
       "4         A10W7NGRNY5GTR"
      ]
     },
     "execution_count": 9,
     "metadata": {},
     "output_type": "execute_result"
    }
   ],
   "source": [
    "# Get the test users without training data\n",
    "test_users_not_in_data = get_users_to_pred_by_index(users_to_pred, index_users_not_in_data)\n",
    "print(test_users_not_in_data.shape)\n",
    "test_users_not_in_data.head()"
   ]
  },
  {
   "cell_type": "markdown",
   "metadata": {},
   "source": [
    "### Create the Ratings matrix"
   ]
  },
  {
   "cell_type": "code",
   "execution_count": 10,
   "metadata": {},
   "outputs": [
    {
     "data": {
      "text/plain": [
       "<34713x18264 sparse matrix of type '<class 'numpy.int64'>'\n",
       "\twith 268169 stored elements in Compressed Sparse Row format>"
      ]
     },
     "execution_count": 10,
     "metadata": {},
     "output_type": "execute_result"
    }
   ],
   "source": [
    "def make_ratings(data: pd.DataFrame) -> csr_matrix:\n",
    "    \"\"\"Creates the ratings matrix of listening history.\n",
    "    \n",
    "    Creates the ratings matrix from the listening history imported using the read_users_history() method.\n",
    "    \n",
    "    Args:\n",
    "        data (pd.DataFrame):  listening history for the users.\n",
    "        \n",
    "    Returns:\n",
    "        ratings (csr_matrix): ratings matrix with shape (n_users, n_items)\n",
    "        \n",
    "    TODO:\n",
    "        * Add the shape as an optional parameter.\n",
    "        \n",
    "    \"\"\"\n",
    "    # You have probably seen this before\n",
    "    users, user_pos = np.unique(data.iloc[:, 0].values, return_inverse=True)\n",
    "    items, item_pos = np.unique(data.iloc[:, 1].values, return_inverse=True)\n",
    "    values = data.iloc[:, 2].fillna(0).values\n",
    "    \n",
    "    shape = (len(users), len(items))\n",
    "\n",
    "    R_ = coo_matrix((values, (user_pos, item_pos)), shape=shape).tocsr()\n",
    "    \n",
    "    return R_\n",
    "\n",
    "\n",
    "R = make_ratings(data)\n",
    "R"
   ]
  },
  {
   "cell_type": "code",
   "execution_count": 11,
   "metadata": {},
   "outputs": [
    {
     "name": "stdout",
     "output_type": "stream",
     "text": [
      "The shape is (34713, 18264)\n",
      "The dtypes of the elements are int64\n",
      "The number of stored elements is 268169\n",
      "The type of the matrix is <class 'scipy.sparse.csr.csr_matrix'>\n"
     ]
    }
   ],
   "source": [
    "# Just for mental (in)sanity, let's match the info of the matrix to what is printed in the previous cell.\n",
    "print(f\"The shape is {R.shape}\")\n",
    "print(f\"The dtypes of the elements are {R.dtype}\")\n",
    "print(f\"The number of stored elements is {R.nnz}\")\n",
    "print(f\"The type of the matrix is {type(R)}\")"
   ]
  },
  {
   "cell_type": "code",
   "execution_count": 12,
   "metadata": {},
   "outputs": [
    {
     "data": {
      "text/html": [
       "<div>\n",
       "<style scoped>\n",
       "    .dataframe tbody tr th:only-of-type {\n",
       "        vertical-align: middle;\n",
       "    }\n",
       "\n",
       "    .dataframe tbody tr th {\n",
       "        vertical-align: top;\n",
       "    }\n",
       "\n",
       "    .dataframe thead th {\n",
       "        text-align: right;\n",
       "    }\n",
       "</style>\n",
       "<table border=\"1\" class=\"dataframe\">\n",
       "  <thead>\n",
       "    <tr style=\"text-align: right;\">\n",
       "      <th></th>\n",
       "      <th>users to recommend products</th>\n",
       "    </tr>\n",
       "  </thead>\n",
       "  <tbody>\n",
       "    <tr>\n",
       "      <th>0</th>\n",
       "      <td>A00046902LP5YSDV0VVNF</td>\n",
       "    </tr>\n",
       "    <tr>\n",
       "      <th>1</th>\n",
       "      <td>A0029274J35Q1MYNKUWO</td>\n",
       "    </tr>\n",
       "    <tr>\n",
       "      <th>2</th>\n",
       "      <td>A004507634IQ8TNQ3YTUI</td>\n",
       "    </tr>\n",
       "    <tr>\n",
       "      <th>3</th>\n",
       "      <td>A005011233SVRED9Q0VY0</td>\n",
       "    </tr>\n",
       "    <tr>\n",
       "      <th>4</th>\n",
       "      <td>A00676013IBZZQ3UYWK47</td>\n",
       "    </tr>\n",
       "  </tbody>\n",
       "</table>\n",
       "</div>"
      ],
      "text/plain": [
       "  users to recommend products\n",
       "0       A00046902LP5YSDV0VVNF\n",
       "1        A0029274J35Q1MYNKUWO\n",
       "2       A004507634IQ8TNQ3YTUI\n",
       "3       A005011233SVRED9Q0VY0\n",
       "4       A00676013IBZZQ3UYWK47"
      ]
     },
     "execution_count": 12,
     "metadata": {},
     "output_type": "execute_result"
    }
   ],
   "source": [
    "# Let's store a Series with the unique user id's that we have in the original data.\n",
    "def get_unique_users(data):\n",
    "    \"\"\"Get unique users in training data.\n",
    "    \n",
    "    Args:\n",
    "        data (pd.DataFrame):  listening history for the users.\n",
    "        \n",
    "    Returns:\n",
    "        unique_users (pd.DataFrame): DataFrame of one column with unique users in training data.\n",
    "    \n",
    "    \"\"\"\n",
    "    return pd.DataFrame(np.unique(data.iloc[:, 0].values), columns=[\"users to recommend products\"])\n",
    "\n",
    "\n",
    "unique_users_training_data = get_unique_users(data)\n",
    "unique_users_training_data.head()"
   ]
  },
  {
   "cell_type": "code",
   "execution_count": 13,
   "metadata": {},
   "outputs": [
    {
     "data": {
      "text/plain": [
       "8343"
      ]
     },
     "execution_count": 13,
     "metadata": {},
     "output_type": "execute_result"
    }
   ],
   "source": [
    "def get_indices_in_ratings_for_test_users_in_data(data: pd.DataFrame, test_users_in_data: pd.DataFrame):\n",
    "    \"\"\"Returns the index of the ratings matrix for the test users for which we have training data.\n",
    "    \n",
    "    Args:\n",
    "        data (pd.DataFrame): DataFrame with the user for each user. \n",
    "                             The rows are tuples of (user, song_id, rating).\n",
    "                             \n",
    "        test_users_in_data (pd.DataFrame): DataFrame containing the list of test users for which we have training data.\n",
    "        \n",
    "    Returns:\n",
    "        indices_ratings_tests_users_in_data (np.array): Indices of users in test set with training data for ratings matrix.\n",
    "    \n",
    "    \"\"\"\n",
    "    unique_users = get_unique_users(data).iloc[:, 0]\n",
    "    indices_ratings_tests_users_in_data = unique_users[unique_users.isin(test_users_in_data.iloc[:, 0])].index.to_numpy()                                                                                       \n",
    "    return indices_ratings_tests_users_in_data\n",
    "\n",
    "indices_ratings_tests_users_in_data = get_indices_in_ratings_for_test_users_in_data(data, test_users_in_data)\n",
    "len(indices_ratings_tests_users_in_data)"
   ]
  }
 ],
 "metadata": {
  "kernelspec": {
   "display_name": "Python 3",
   "language": "python",
   "name": "python3"
  },
  "language_info": {
   "codemirror_mode": {
    "name": "ipython",
    "version": 3
   },
   "file_extension": ".py",
   "mimetype": "text/x-python",
   "name": "python",
   "nbconvert_exporter": "python",
   "pygments_lexer": "ipython3",
   "version": "3.7.3"
  }
 },
 "nbformat": 4,
 "nbformat_minor": 2
}
